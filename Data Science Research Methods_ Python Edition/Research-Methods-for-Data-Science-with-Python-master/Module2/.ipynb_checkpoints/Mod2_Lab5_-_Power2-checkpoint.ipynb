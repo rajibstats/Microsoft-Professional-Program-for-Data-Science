{
 "cells": [
  {
   "cell_type": "markdown",
   "metadata": {},
   "source": [
    "Module 2, Lab 5 - Power 2 - Sample Size Planning Illustration\n",
    "=============================================================\n",
    "\n",
    "In this lab, we will practice using the `tt_ind_solve_power` from the Python `statsmodels.stats.power` package for determining the minimum necessary sample size for a two-sample *t*-test design. I illustrate a real-life iterative project planning sequence so you can see how power planning can be integrated into a data-science research project.\n",
    "\n",
    "First, load the required software:"
   ]
  },
  {
   "cell_type": "code",
   "execution_count": null,
   "metadata": {},
   "outputs": [],
   "source": [
    "from statsmodels.stats.power import tt_ind_solve_power"
   ]
  },
  {
   "cell_type": "markdown",
   "metadata": {},
   "source": [
    "You wish to compare groups at two different locations in your\n",
    "organization to see if either group is more satisfied with their working\n",
    "conditions. You will be comparing the groups with a *t*-test, and you\n",
    "care deeply about estimating the effect, even if it is small. Data will\n",
    "be challenging to get, however, as you will have to get managers to ask\n",
    "employees to return surveys. You need to determine the minimum necessary\n",
    "sample size to get adequate power.\n",
    "\n",
    "Usually, we start with our dream scenario. Let's ask for 90% power to\n",
    "detect a very small effect size (*d* = .10). What sample size would be\n",
    "required?"
   ]
  },
  {
   "cell_type": "code",
   "execution_count": null,
   "metadata": {},
   "outputs": [],
   "source": [
    "tt_ind_solve_power(effect_size=0.1, nobs1 = None, alpha=0.05, power=0.9, ratio=1, alternative='two-sided')"
   ]
  },
  {
   "cell_type": "markdown",
   "metadata": {},
   "source": [
    "We see here that we need 2103 people per group, or 4206 people in total.\n",
    "Knowing the size of the organization, you know anything that size is\n",
    "likely out of the question. You might be able to get away, you think\n",
    "with collecting data from 500 participants without imposing too much on\n",
    "team supervisors. So, you try again, this time with a more realistic 80%\n",
    "power and a mid-range-small effect of *d* = .25."
   ]
  },
  {
   "cell_type": "code",
   "execution_count": null,
   "metadata": {},
   "outputs": [],
   "source": [
    "tt_ind_solve_power(effect_size=0.25, nobs1 = None, alpha=0.05, power=0.8, ratio=1, alternative='two-sided')"
   ]
  },
  {
   "cell_type": "markdown",
   "metadata": {},
   "source": [
    "By pure happenstance, you get 253 per group (always round up to ensure\n",
    "sample size is adequate). You take this proposal to collect data from\n",
    "500 employees to your supervisor; after some discussion, you are told\n",
    "that they will try to push for a large sample (on the basis of your\n",
    "request), but they've decided 400 is the maximum they are likely to be\n",
    "able to collect.\n",
    "\n",
    "Now, you change your strategy. 400 is close to 500, so it's likely to be\n",
    "similar. You now leave out effect size and input *n* = 200 (since it's\n",
    "per group) and a request for 80% power:"
   ]
  },
  {
   "cell_type": "code",
   "execution_count": null,
   "metadata": {},
   "outputs": [],
   "source": [
    "tt_ind_solve_power(effect_size=None, nobs1 = 200, alpha=0.05, power=0.8, ratio=1, alternative='two-sided')"
   ]
  },
  {
   "cell_type": "markdown",
   "metadata": {},
   "source": [
    "You will now have 80% power to detect effects as small as *d* = .28,\n",
    "which is still a mid-range small effect.\n",
    "\n",
    "Before you tell everyone that will still work with this suggested sample\n",
    "size, you run a loop to estimate power at that sample size for various\n",
    "effect sizes (e.g., power would suffer if *d* were lower, but would it\n",
    "be *that* terrible if *d* were, say, .10?)"
   ]
  },
  {
   "cell_type": "code",
   "execution_count": null,
   "metadata": {},
   "outputs": [],
   "source": [
    "d_values = [x/100.0 for x in range(5,55,5)] # Need range to 55 since Python is zero based indexing\n",
    "\n",
    "powers = [tt_ind_solve_power(effect_size=d, nobs1 = 200, alpha=0.05, power=None, ratio=1, alternative='two-sided')\n",
    "            for d in d_values]\n",
    "powers"
   ]
  },
  {
   "cell_type": "markdown",
   "metadata": {},
   "source": [
    "Looking at this chart, we see that power really starts to drop off\n",
    "around *d* = .20, hitting 51%. You discuss this with your team; they\n",
    "conclude they are ok with a 50% chance of declaring \"no difference\" if\n",
    "effect is *that* small. The study is run with 400 people and an\n",
    "informative result is produced.\n",
    "\n",
    "Epilogue\n",
    "========\n",
    "\n",
    "At the very end, you hear that the original proposal had been to collect\n",
    "40 responses, 20 from each site. You smile to yourself, considering how\n",
    "your power analysis likely saved the project. You run a power analysis\n",
    "just to see how bad the situation would be:"
   ]
  },
  {
   "cell_type": "code",
   "execution_count": null,
   "metadata": {},
   "outputs": [],
   "source": [
    "tt_ind_solve_power(effect_size=None, nobs1 = 20, alpha=0.05, power=0.8, ratio=1, alternative='two-sided')"
   ]
  },
  {
   "cell_type": "markdown",
   "metadata": {},
   "source": [
    "You see here that the smallest effect size for which you would have good\n",
    "power is well into the 'large' range. What if the effects were small?\n",
    "What are the odds the study would even be able to pick them up? You\n",
    "consider the scenario of *d* = .25:"
   ]
  },
  {
   "cell_type": "code",
   "execution_count": null,
   "metadata": {},
   "outputs": [],
   "source": [
    "tt_ind_solve_power(effect_size=.25, nobs1 = 20, alpha=0.05, power=None, ratio=1, alternative='two-sided')"
   ]
  },
  {
   "cell_type": "markdown",
   "metadata": {},
   "source": [
    "This study would have 12% power. Yikes. It's a good thing you performed\n",
    "a power analysis."
   ]
  }
 ],
 "metadata": {
  "kernelspec": {
   "display_name": "Python 3",
   "language": "python",
   "name": "python3"
  },
  "language_info": {
   "codemirror_mode": {
    "name": "ipython",
    "version": 3
   },
   "file_extension": ".py",
   "mimetype": "text/x-python",
   "name": "python",
   "nbconvert_exporter": "python",
   "pygments_lexer": "ipython3",
   "version": "3.6.5"
  }
 },
 "nbformat": 4,
 "nbformat_minor": 2
}
