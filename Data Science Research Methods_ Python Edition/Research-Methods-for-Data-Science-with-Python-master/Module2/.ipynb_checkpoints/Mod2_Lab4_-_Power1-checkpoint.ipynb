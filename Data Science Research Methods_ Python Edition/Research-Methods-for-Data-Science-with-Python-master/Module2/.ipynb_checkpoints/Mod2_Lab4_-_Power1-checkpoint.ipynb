{
 "cells": [
  {
   "cell_type": "markdown",
   "metadata": {},
   "source": [
    "Module 2, Lab 4 - Power 1\n",
    "=========================\n",
    "\n",
    "In this lab, we explore the concept of statistical power. Recall that\n",
    "power is the ability to reject the null hypothesis. Greater power means\n",
    "greater ability to reject the null hypothesis. Of course, if you cannot\n",
    "reject the null hypothesis, you cannot rule out random chance as an\n",
    "explanation for your findings. Therefore, the ability to reject the null\n",
    "hypothesis should be considered a bare minimum for any research or data\n",
    "science finding that relies on samples to estimate populations. In fact,\n",
    "as we saw in the confidence interval lab, it's often desirable to be\n",
    "even more precise than rejecting the null hypothesis (i.e., more precise\n",
    "than \"effect is not zero\"). Still, good power is a bare minimum\n",
    "requirement.\n",
    "\n",
    "Note: you will need the `effsize` package for this lab to measure effect\n",
    "sizes; you will also need the `pwr` package. We will do some data\n",
    "visualization with `ggplot2` as well:"
   ]
  },
  {
   "cell_type": "code",
   "execution_count": 1,
   "metadata": {},
   "outputs": [],
   "source": [
    "### LOAD PACKAGES ####\n",
    "from scipy import stats"
   ]
  },
  {
   "cell_type": "markdown",
   "metadata": {},
   "source": [
    "Note that for this lab you need to be familiar with the effect size\n",
    "statistic, Cohen's *d*, discussed in the online lesson. I will assume\n",
    "you have watched this and are familiar with how *p*-values work to\n",
    "reject the null hypothesis. If you need to refresh these concepts, do so\n",
    "before completing this lab. The standard guidelines for Cohen's *d* are:\n",
    "\n",
    "|        | d Value          | Meaning  |\n",
    "| ------------- |:-------------:|-----------:|\n",
    "| 1.  | 0 - 0.2 | Negligible |\n",
    "| 2.  | 0.2 - 0.5     |  Small |\n",
    "| 3. | 0.5 - 0.8      |  Medium |\n",
    "| 4. | 0.80 +      |  Large |"
   ]
  },
  {
   "cell_type": "markdown",
   "metadata": {},
   "source": [
    "Power Overview\n",
    "==============\n",
    "\n",
    "Technically defined, power is the proportion of the time in which you\n",
    "would achieve *p* &lt; .05 for a given population effect size. Power is\n",
    "relevant *only* when the null hypothesis is false. Assuming that the\n",
    "null is false, what is the likelihood that your study will actually\n",
    "detect the effect that is truly present? For example, a study that has\n",
    "only 20% power has only a 20% chance to actually detect the effect that\n",
    "is present (i.e., achieve statistical significance, *p* &lt; .05).\n",
    "Clearly, you do not want your study to be set up to fail. You want good\n",
    "power...usually the recommendation is .80 or higher.\n",
    "\n",
    "Power is **highly dependnet on sample size**.\n",
    "\n",
    "For example, imagine that, in the population, the size of the difference\n",
    "between two groups (e.g., \"intervention group to increase productivity\"\n",
    "vs. \"business as usual\" group) was *d* = .4. A study with *n*= 40 people\n",
    "per group would only have 42% power, i.e., be able to reject the null\n",
    "hypothesis 42% of the time.\n",
    "\n",
    "How do I know that? I used a power calculator.\n",
    "\n",
    "This can be easily calculated using the `tt_ind_solve_power` function in the\n",
    "`statsmodels.stats.power` Python package. "
   ]
  },
  {
   "cell_type": "code",
   "execution_count": null,
   "metadata": {},
   "outputs": [],
   "source": [
    "from statsmodels.stats.power import tt_ind_solve_power\n",
    "tt_ind_solve_power(effect_size=0.4, nobs1 = 40, alpha=0.05, power=None, ratio=1, alternative='two-sided')"
   ]
  },
  {
   "cell_type": "markdown",
   "metadata": {},
   "source": [
    "We see here that the power is given as `power = 0.4235212`.\n",
    "\n",
    "Power is a function of both the effect size and the sample size. Imagine\n",
    "that we had a larger sample, say *n* = 100 people per group. Would our\n",
    "power improve?"
   ]
  },
  {
   "cell_type": "code",
   "execution_count": null,
   "metadata": {},
   "outputs": [],
   "source": [
    "tt_ind_solve_power(effect_size=0.4, nobs1 = 100, alpha=0.05, power=None, ratio=1, alternative='two-sided')"
   ]
  },
  {
   "cell_type": "markdown",
   "metadata": {},
   "source": [
    "Indeed, now we have reached 80% power, the standard guideline for\n",
    "acceptable power.\n",
    "\n",
    "We could see what happens if we use larger groups, say 150 per group:"
   ]
  },
  {
   "cell_type": "code",
   "execution_count": null,
   "metadata": {},
   "outputs": [],
   "source": [
    "tt_ind_solve_power(effect_size=0.4, nobs1 = 150, alpha=0.05, power=None, ratio=1, alternative='two-sided')"
   ]
  },
  {
   "cell_type": "markdown",
   "metadata": {},
   "source": [
    "Now we have 93% power. You always want high power. If power is low, you\n",
    "risk missing real effects, spending time and energy on a study coming up\n",
    "empty even when there is something to be found.\n",
    "\n",
    "To reiterate, in power calculations, there are always three things that\n",
    "interrelate:\n",
    "\n",
    "1.  Power\n",
    "2.  Sample size (*n* per group in group-comparison studies)\n",
    "3.  Effect size\n",
    "\n",
    "In most power calculators, you enter any two of those three, and the\n",
    "third can be determined for you.\n",
    "\n",
    "For example, say we are planning a study and want to know how many\n",
    "responses are required. We can specify the desired power (leave `n`\n",
    "blank) and the command will find the required sample size:"
   ]
  },
  {
   "cell_type": "code",
   "execution_count": null,
   "metadata": {},
   "outputs": [],
   "source": [
    "tt_ind_solve_power(effect_size=0.4, nobs1 = None, alpha=0.05, power=0.8, ratio=1, alternative='two-sided')"
   ]
  },
  {
   "cell_type": "markdown",
   "metadata": {},
   "source": [
    "We see here that this study would require 100 people per group (best to\n",
    "round up).\n",
    "\n",
    "However, the relationship between sample size and power is not fixed. In\n",
    "fact, power also goes down as effect size goes down. This should make\n",
    "sense: it is much harder to detect a very tiny effect than it is a very\n",
    "large effect. Let's re-run the last command, asking how many people are\n",
    "needed for 80% power but now considering the situation where the\n",
    "population *d* is smaller, *d* = .20:"
   ]
  },
  {
   "cell_type": "code",
   "execution_count": null,
   "metadata": {},
   "outputs": [],
   "source": [
    "tt_ind_solve_power(effect_size=0.2, nobs1 = None, alpha=0.05, power=0.8, ratio=1, alternative='two-sided')"
   ]
  },
  {
   "cell_type": "markdown",
   "metadata": {},
   "source": [
    "We see now that our required sample size has jumped to 394 per group, a\n",
    "much larger and more expensive study.\n",
    "\n",
    "So, as you plan studies, you need to tell a power calculator the desired\n",
    "power level (recommended: 80% or .80) *and* the population effect size.\n",
    "\n",
    "**However, you don't know the population effect size. If you did, you\n",
    "wouldn't be running a research study, would you?**\n",
    "\n",
    "Standard practice, therefore, is to input the smallest effect size you\n",
    "would care to be able to detect (called \"smallest effect size of\n",
    "interest, or SESOI).\n",
    "\n",
    "For example, perhaps your research question is *very important* and you\n",
    "want to be able to detect any effect, even if it is small. In that case,\n",
    "power the study as above with 394 people per group.\n",
    "\n",
    "Or, perhaps a small effect is unimportant to you; you care to know if an\n",
    "effect is present but really only if it's large (you're fine getting a\n",
    "null result if the effect is small; small effects are not important to\n",
    "you). In that case, you can use a more lenient criteria:"
   ]
  },
  {
   "cell_type": "code",
   "execution_count": null,
   "metadata": {},
   "outputs": [],
   "source": [
    "tt_ind_solve_power(effect_size=0.8, nobs1 = None, alpha=0.05, power=0.8, ratio=1, alternative='two-sided')"
   ]
  },
  {
   "cell_type": "markdown",
   "metadata": {},
   "source": [
    "This example would let us have 80% power to detect a large effect with\n",
    "only 26 people per group. However, the high power is only present when\n",
    "the effect is that large. if the effect were smaller, your power would\n",
    "be worse and you would likely miss it. Let's take that same sample size\n",
    "and consider what would happen if your effects were smaller than *d* =\n",
    ".80. Try running the command for *nobs* = 26 and *d* = .30. What is the\n",
    "power?"
   ]
  },
  {
   "cell_type": "code",
   "execution_count": null,
   "metadata": {},
   "outputs": [],
   "source": [
    "tt_ind_solve_power(effect_size=0.3, nobs1 = 26, alpha=0.05, power=None, ratio=1, alternative='two-sided')"
   ]
  },
  {
   "cell_type": "markdown",
   "metadata": {},
   "source": [
    "Yikes! For that 26-person-per-group study, if the population effect size\n",
    "were *d* = .30, we would have only an 18% chance of detecting the\n",
    "effect. Thus, the *same* study can have very good power to detect large\n",
    "effects but terrible power to detect small effects. Thus, the researcher\n",
    "should always decide the smallest effect size of interest and power the\n",
    "study to detect that.\n",
    "\n",
    "Just to play with this some more, let's illustrate how a sample size of\n",
    "26 per group performs across a variety of effect sizes. I will use a\n",
    "loop command to do this."
   ]
  },
  {
   "cell_type": "code",
   "execution_count": null,
   "metadata": {},
   "outputs": [],
   "source": [
    "import pandas as pd\n",
    "d_vals = [x/10.0 for x in range(1, 16)]\n",
    "powers = [tt_ind_solve_power(effect_size=x, nobs1 = 26, alpha=0.05, power=None, ratio=1, alternative='two-sided') \n",
    "                    for x in d_vals]\n",
    "d_powers = pd.DataFrame({'d_values':d_vals, 'power':powers})\n",
    "d_powers"
   ]
  },
  {
   "cell_type": "markdown",
   "metadata": {},
   "source": [
    "Using that sample size of 26, we see that we have excellent power to\n",
    "detect large effect sizes (Cohen *d* values .80 and above), but we would\n",
    "have very low power (very likely to get a non-significant result) if the\n",
    "effect is small. In such cases, we would likely come back and say \"we\n",
    "did not find a difference\" when really we simply missed what was there.\n",
    "\n",
    "Thus, you must always decide the smallest effect size you want to be\n",
    "able to have good power to detect. This should be based on the\n",
    "importance of the question, resources available, and how big you guess\n",
    "the effect might be. If you are chasing very nuanced things in noisy\n",
    "data, you may need very large samples to get statistical significance.\n",
    "\n",
    "Planning Sample Size\n",
    "====================\n",
    "\n",
    "Sometimes it can be handy to generate a number of power estimates for\n",
    "different effect sizes and sample sizes. The code in the cell below performs the following processing:\n",
    "1. A list of d values is created with a list comprehension.\n",
    "2. A data frame is created with a single column for sample sizes.\n",
    "3. Loop over the d values. Within the loop a list comprehension is used to compute the power of the test for each sample size. \n",
    "\n",
    "Execute this code:"
   ]
  },
  {
   "cell_type": "code",
   "execution_count": null,
   "metadata": {
    "scrolled": false
   },
   "outputs": [],
   "source": [
    "## create list of d values\n",
    "d_vals = [x/10.0 for x in range(2,16)]\n",
    "\n",
    "## Initialize data frame\n",
    "powers = pd.DataFrame({'sample_size':range(20,210,10)})\n",
    "## Loop over d values\n",
    "for d_val in d_vals:\n",
    "    col_name = 'd = ' + str(d_val)\n",
    "    ## List comprehension for each d value itterating over the sample sizes\n",
    "    powers[col_name] = [tt_ind_solve_power(effect_size=d_val, nobs1 = x, alpha=0.05, power=None, ratio=1, alternative='two-sided')\n",
    "                      for x in range(20,210,10)]\n",
    "        \n",
    "powers   "
   ]
  },
  {
   "cell_type": "markdown",
   "metadata": {},
   "source": [
    "Execute the code in the cell below to plot power vs. the sample size for each of the d values:"
   ]
  },
  {
   "cell_type": "code",
   "execution_count": null,
   "metadata": {},
   "outputs": [],
   "source": [
    "import matplotlib.pyplot as plt\n",
    "%matplotlib inline\n",
    "fig = plt.figure(figsize=(12,10)) # define plot area\n",
    "ax = fig.gca() # define axis\n",
    "powers.plot(x = 'sample_size', ax = ax, linestyle = '-.')\n",
    "plt.hlines(y = 0.8, xmin = 20, xmax = 200, color = 'red', linestyle = '--')\n",
    "plt.title('Power vs. sample size for values of d')\n",
    "plt.ylabel('Power')\n",
    "plt.xlabel('Sample Size')"
   ]
  },
  {
   "cell_type": "markdown",
   "metadata": {},
   "source": [
    "You can modify the above code for different sample sizes and ranges, but\n",
    "the rest stays the same. You can easily see with the graph that 80%\n",
    "power (red dashed line) would take 180 participants per group for a *d*\n",
    "= .03 but would only take 45 people per group at *d* = .06."
   ]
  },
  {
   "cell_type": "markdown",
   "metadata": {},
   "source": [
    "One Final Word of Caution\n",
    "=========================\n",
    "\n",
    "Some people have brushed aside the issue of poor power, especially when\n",
    "a result is significant. After all, if a result is significant, it *had*\n",
    "power to reject the null, right?\n",
    "\n",
    "Wrong. Beware significant findings from under-powered studies.\n",
    "\n",
    "Consider a study that has very low power. In such a case, the researcher\n",
    "has almost *no* ability to find true effects.\n",
    "\n",
    "However, false positives *still happen* 5% of the time (when the null is\n",
    "true).\n",
    "\n",
    "Thus, as power gets lower, the number of \"true\" positives (real effects,\n",
    "discovered) goes down, while the number of false positives stays fixed.\n",
    "When power is low, false positives can equal or even outnumber true\n",
    "positives. In such cases, when an effect is significant, it is very\n",
    "challenging to know whether the effect is a true positive or a false\n",
    "positive. We will explore this issue in a future lesson, but take this\n",
    "as a word of caution about under-powered studies."
   ]
  },
  {
   "cell_type": "code",
   "execution_count": null,
   "metadata": {},
   "outputs": [],
   "source": []
  }
 ],
 "metadata": {
  "kernelspec": {
   "display_name": "Python 3",
   "language": "python",
   "name": "python3"
  },
  "language_info": {
   "codemirror_mode": {
    "name": "ipython",
    "version": 3
   },
   "file_extension": ".py",
   "mimetype": "text/x-python",
   "name": "python",
   "nbconvert_exporter": "python",
   "pygments_lexer": "ipython3",
   "version": "3.6.5"
  }
 },
 "nbformat": 4,
 "nbformat_minor": 2
}
